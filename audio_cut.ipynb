{
  "nbformat": 4,
  "nbformat_minor": 0,
  "metadata": {
    "colab": {
      "provenance": [],
      "authorship_tag": "ABX9TyNwC2QGXiSJCZ4NacSIK7sk",
      "include_colab_link": true
    },
    "kernelspec": {
      "name": "python3",
      "display_name": "Python 3"
    },
    "language_info": {
      "name": "python"
    }
  },
  "cells": [
    {
      "cell_type": "markdown",
      "metadata": {
        "id": "view-in-github",
        "colab_type": "text"
      },
      "source": [
        "<a href=\"https://colab.research.google.com/github/noahdanieldsouza/PAM-classification/blob/main/audio_cut.ipynb\" target=\"_parent\"><img src=\"https://colab.research.google.com/assets/colab-badge.svg\" alt=\"Open In Colab\"/></a>"
      ]
    },
    {
      "cell_type": "code",
      "execution_count": null,
      "metadata": {
        "id": "AEm3AST_sclR"
      },
      "outputs": [],
      "source": [
        "#@title Install Libraries { vertical-output: true }\n",
        "pip install pydub librosa numpy scipy\n"
      ]
    },
    {
      "cell_type": "code",
      "source": [
        "#@title Imports { vertical-output: true }\n",
        "import os\n",
        "import xml.etree.ElementTree as ET\n",
        "from pydub import AudioSegment\n",
        "import numpy as np\n",
        "import librosa\n",
        "import soundfile as sf\n",
        "from datetime import datetime, timedelta"
      ],
      "metadata": {
        "id": "jBVJz1k1srPW"
      },
      "execution_count": null,
      "outputs": []
    },
    {
      "cell_type": "code",
      "source": [
        "#@title Configuration { vertical-output: true }\n",
        "WAV_DIR = '' #@param {type:'string'}\n",
        "OUTPUT_DIR = '' #@param {type:'string'}\n",
        "EVENT_THRESHOLD_DB = -30  #@param {type:'int'} # in dB, adjust based on your noise level\n",
        "MIN_SILENCE_DURATION = 0.3 #@param {type:'float'} # seconds\n",
        "CLIP_LENGTH = 5  #@param {type:'int'} second\n",
        "\n",
        "os.makedirs(OUTPUT_DIR, exist_ok=True)\n",
        "\n"
      ],
      "metadata": {
        "id": "FGTF6BEHtFKs"
      },
      "execution_count": null,
      "outputs": []
    },
    {
      "cell_type": "code",
      "source": [
        "#@title Functions { vertical-output: true }\n",
        "#parse xml timestamps\n",
        "def parse_xml_time(xml_path):\n",
        "    tree = ET.parse(xml_path)\n",
        "    root = tree.getroot()\n",
        "    start_str = root.findtext('StartTime')  # modify if tag name differs\n",
        "    return datetime.fromisoformat(start_str)\n",
        "\n",
        "#convert decibels to amplitude\n",
        "def db_to_amplitude_ratio(db):\n",
        "    return 10 ** (db / 20)\n",
        "\n",
        "#detect audio events\n",
        "def detect_events(audio, sr, threshold_db=-30):\n",
        "    # Convert to mono\n",
        "    if audio.ndim > 1:\n",
        "        audio = np.mean(audio, axis=1)\n",
        "\n",
        "    frame_length = int(sr * 0.1)  # 100ms\n",
        "    hop_length = int(sr * 0.05)\n",
        "    rms = librosa.feature.rms(audio, frame_length=frame_length, hop_length=hop_length)[0]\n",
        "    times = librosa.frames_to_time(np.arange(len(rms)), sr=sr, hop_length=hop_length)\n",
        "\n",
        "    threshold = db_to_amplitude_ratio(threshold_db)\n",
        "    is_loud = rms > threshold\n",
        "\n",
        "    events = []\n",
        "    start = None\n",
        "    for i, loud in enumerate(is_loud):\n",
        "        if loud and start is None:\n",
        "            start = times[i]\n",
        "        elif not loud and start is not None:\n",
        "            end = times[i]\n",
        "            if end - start > MIN_SILENCE_DURATION:\n",
        "                events.append((start, end))\n",
        "            start = None\n",
        "    if start is not None:\n",
        "        events.append((start, times[-1]))\n",
        "    return events\n",
        "\n",
        "#create new xml for the five second clip\n",
        "def write_xml_for_clip(base_datetime, clip_start, output_path):\n",
        "    clip_time = base_datetime + timedelta(seconds=clip_start)\n",
        "    root = ET.Element(\"ClipMetadata\")\n",
        "    start_elem = ET.SubElement(root, \"StartTime\")\n",
        "    start_elem.text = clip_time.isoformat()\n",
        "    tree = ET.ElementTree(root)\n",
        "    tree.write(output_path)\n",
        "\n"
      ],
      "metadata": {
        "id": "2YeBFLijtbgo"
      },
      "execution_count": null,
      "outputs": []
    }
  ]
}