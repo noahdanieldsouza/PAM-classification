{
  "nbformat": 4,
  "nbformat_minor": 0,
  "metadata": {
    "colab": {
      "provenance": [],
      "authorship_tag": "ABX9TyM1e1gQrOO2CJjZuHAmTNj/",
      "include_colab_link": true
    },
    "kernelspec": {
      "name": "python3",
      "display_name": "Python 3"
    },
    "language_info": {
      "name": "python"
    }
  },
  "cells": [
    {
      "cell_type": "markdown",
      "metadata": {
        "id": "view-in-github",
        "colab_type": "text"
      },
      "source": [
        "<a href=\"https://colab.research.google.com/github/noahdanieldsouza/PAM-classification/blob/main/audio_cut.ipynb\" target=\"_parent\"><img src=\"https://colab.research.google.com/assets/colab-badge.svg\" alt=\"Open In Colab\"/></a>"
      ]
    },
    {
      "cell_type": "code",
      "execution_count": 20,
      "metadata": {
        "colab": {
          "base_uri": "https://localhost:8080/"
        },
        "id": "AEm3AST_sclR",
        "outputId": "b67e9bee-001c-4e63-d791-7e7f367d2d9a"
      },
      "outputs": [
        {
          "output_type": "stream",
          "name": "stdout",
          "text": [
            "Requirement already satisfied: pydub in /usr/local/lib/python3.11/dist-packages (0.25.1)\n",
            "Requirement already satisfied: librosa in /usr/local/lib/python3.11/dist-packages (0.11.0)\n",
            "Requirement already satisfied: numpy in /usr/local/lib/python3.11/dist-packages (2.0.2)\n",
            "Requirement already satisfied: scipy in /usr/local/lib/python3.11/dist-packages (1.15.3)\n",
            "Requirement already satisfied: audioread>=2.1.9 in /usr/local/lib/python3.11/dist-packages (from librosa) (3.0.1)\n",
            "Requirement already satisfied: numba>=0.51.0 in /usr/local/lib/python3.11/dist-packages (from librosa) (0.60.0)\n",
            "Requirement already satisfied: scikit-learn>=1.1.0 in /usr/local/lib/python3.11/dist-packages (from librosa) (1.6.1)\n",
            "Requirement already satisfied: joblib>=1.0 in /usr/local/lib/python3.11/dist-packages (from librosa) (1.5.1)\n",
            "Requirement already satisfied: decorator>=4.3.0 in /usr/local/lib/python3.11/dist-packages (from librosa) (4.4.2)\n",
            "Requirement already satisfied: soundfile>=0.12.1 in /usr/local/lib/python3.11/dist-packages (from librosa) (0.13.1)\n",
            "Requirement already satisfied: pooch>=1.1 in /usr/local/lib/python3.11/dist-packages (from librosa) (1.8.2)\n",
            "Requirement already satisfied: soxr>=0.3.2 in /usr/local/lib/python3.11/dist-packages (from librosa) (0.5.0.post1)\n",
            "Requirement already satisfied: typing_extensions>=4.1.1 in /usr/local/lib/python3.11/dist-packages (from librosa) (4.14.0)\n",
            "Requirement already satisfied: lazy_loader>=0.1 in /usr/local/lib/python3.11/dist-packages (from librosa) (0.4)\n",
            "Requirement already satisfied: msgpack>=1.0 in /usr/local/lib/python3.11/dist-packages (from librosa) (1.1.1)\n",
            "Requirement already satisfied: packaging in /usr/local/lib/python3.11/dist-packages (from lazy_loader>=0.1->librosa) (24.2)\n",
            "Requirement already satisfied: llvmlite<0.44,>=0.43.0dev0 in /usr/local/lib/python3.11/dist-packages (from numba>=0.51.0->librosa) (0.43.0)\n",
            "Requirement already satisfied: platformdirs>=2.5.0 in /usr/local/lib/python3.11/dist-packages (from pooch>=1.1->librosa) (4.3.8)\n",
            "Requirement already satisfied: requests>=2.19.0 in /usr/local/lib/python3.11/dist-packages (from pooch>=1.1->librosa) (2.32.3)\n",
            "Requirement already satisfied: threadpoolctl>=3.1.0 in /usr/local/lib/python3.11/dist-packages (from scikit-learn>=1.1.0->librosa) (3.6.0)\n",
            "Requirement already satisfied: cffi>=1.0 in /usr/local/lib/python3.11/dist-packages (from soundfile>=0.12.1->librosa) (1.17.1)\n",
            "Requirement already satisfied: pycparser in /usr/local/lib/python3.11/dist-packages (from cffi>=1.0->soundfile>=0.12.1->librosa) (2.22)\n",
            "Requirement already satisfied: charset-normalizer<4,>=2 in /usr/local/lib/python3.11/dist-packages (from requests>=2.19.0->pooch>=1.1->librosa) (3.4.2)\n",
            "Requirement already satisfied: idna<4,>=2.5 in /usr/local/lib/python3.11/dist-packages (from requests>=2.19.0->pooch>=1.1->librosa) (3.10)\n",
            "Requirement already satisfied: urllib3<3,>=1.21.1 in /usr/local/lib/python3.11/dist-packages (from requests>=2.19.0->pooch>=1.1->librosa) (2.4.0)\n",
            "Requirement already satisfied: certifi>=2017.4.17 in /usr/local/lib/python3.11/dist-packages (from requests>=2.19.0->pooch>=1.1->librosa) (2025.6.15)\n"
          ]
        }
      ],
      "source": [
        "#@title Install Libraries { vertical-output: true }\n",
        "!pip install pydub librosa numpy scipy\n"
      ]
    },
    {
      "cell_type": "code",
      "source": [
        "#@title Imports { vertical-output: true }\n",
        "import os\n",
        "import xml.etree.ElementTree as ET\n",
        "from pydub import AudioSegment\n",
        "import numpy as np\n",
        "import librosa\n",
        "import soundfile as sf\n",
        "from datetime import datetime, timedelta"
      ],
      "metadata": {
        "id": "jBVJz1k1srPW"
      },
      "execution_count": 21,
      "outputs": []
    },
    {
      "cell_type": "code",
      "source": [
        "#@title Configuration { vertical-output: true }\n",
        "from google.colab import drive\n",
        "drive.mount('/content/drive', force_remount=True)\n",
        "WAV_DIR = '/content/drive/MyDrive/lake-sounds' #@param {type:'string'}\n",
        "OUTPUT_DIR = '/content/drive/MyDrive/lake-sounds/output' #@param {type:'string'}\n",
        "THRESHOLD_DB_MIN = -90  #@param {type:'int'} # quiet limit\n",
        "THRESHOLD_DB_MAX = -60  #@param {type:'int'} # in dB, adjust based on your noise level\n",
        "MIN_SILENCE_DURATION = 0.3 #@param {type:'float'} # seconds\n",
        "CLIP_LENGTH = 5  #@param {type:'int'} second\n",
        "\n",
        "os.makedirs(OUTPUT_DIR, exist_ok=True)\n",
        "\n"
      ],
      "metadata": {
        "colab": {
          "base_uri": "https://localhost:8080/"
        },
        "id": "FGTF6BEHtFKs",
        "outputId": "89ebadf5-b8fb-4de9-b272-f5d744a3a507"
      },
      "execution_count": 22,
      "outputs": [
        {
          "output_type": "stream",
          "name": "stdout",
          "text": [
            "Mounted at /content/drive\n"
          ]
        }
      ]
    },
    {
      "cell_type": "code",
      "source": [
        "#@title Functions { vertical-output: true }\n",
        "#parse xml timestamps\n",
        "def parse_xml_time(xml_path):\n",
        "    tree = ET.parse(xml_path)\n",
        "    root = tree.getroot()\n",
        "\n",
        "    # Look for the right <PROC_EVENT> with <WavFileHandler SamplingStartTimeLocal=... />\n",
        "    for proc_event in root.findall(\".//PROC_EVENT\"):\n",
        "        wav_handler = proc_event.find(\"WavFileHandler\")\n",
        "        if wav_handler is not None:\n",
        "            start_time_str = wav_handler.attrib.get(\"SamplingStartTimeLocal\")\n",
        "            if start_time_str:\n",
        "                return datetime.fromisoformat(start_time_str)\n",
        "\n",
        "    raise ValueError(f\"SamplingStartTimeLocal not found in {xml_path}\")\n",
        "\n",
        "#convert decibels to amplitude\n",
        "def db_to_amplitude_ratio(db):\n",
        "    return 10 ** (db / 20)\n",
        "\n",
        "#detect audio events\n",
        "def detect_events(audio, sr, threshold_db=-30):\n",
        "    # Convert to mono\n",
        "    if audio.ndim > 1:\n",
        "        audio = np.mean(audio, axis=1)\n",
        "\n",
        "    frame_length = int(sr * 0.1)  # 100ms\n",
        "    hop_length = int(sr * 0.05)\n",
        "    rms = librosa.feature.rms(y=audio, frame_length=frame_length, hop_length=hop_length)[0]\n",
        "\n",
        "    times = librosa.frames_to_time(np.arange(len(rms)), sr=sr, hop_length=hop_length)\n",
        "\n",
        "    threshold = db_to_amplitude_ratio(threshold_db)\n",
        "    is_loud = rms > threshold\n",
        "\n",
        "    events = []\n",
        "    start = None\n",
        "    for i, loud in enumerate(is_loud):\n",
        "        if loud and start is None:\n",
        "            start = times[i]\n",
        "        elif not loud and start is not None:\n",
        "            end = times[i]\n",
        "            if end - start > MIN_SILENCE_DURATION:\n",
        "                events.append((start, end))\n",
        "            start = None\n",
        "    if start is not None:\n",
        "        events.append((start, times[-1]))\n",
        "    return events\n",
        "\n",
        "#create new xml for the five second clip\n",
        "def write_xml_for_clip(base_datetime, clip_start, output_path):\n",
        "    clip_time = base_datetime + timedelta(seconds=clip_start)\n",
        "    clip_time_str = clip_time.isoformat()  # e.g., \"2024-08-31T14:02:15\"\n",
        "\n",
        "    # Root element\n",
        "    root = ET.Element(\"ST\")\n",
        "\n",
        "    # PROC_EVENT structure\n",
        "    proc_event = ET.SubElement(root, \"PROC_EVENT\", attrib={\"ID\": \"4\"})\n",
        "    ET.SubElement(proc_event, \"WavFileHandler\", attrib={\n",
        "        \"SamplingStartTimeLocal\": clip_time_str\n",
        "    })\n",
        "\n",
        "    # Save to file\n",
        "    tree = ET.ElementTree(root)\n",
        "    tree.write(output_path)\n"
      ],
      "metadata": {
        "id": "2YeBFLijtbgo"
      },
      "execution_count": 23,
      "outputs": []
    },
    {
      "cell_type": "code",
      "source": [
        "#@title Cut audio and save { vertical-output: true }\n",
        "def process_file(wav_path, xml_path, chunk_duration=10):\n",
        "    print(f\"Processing: {os.path.basename(wav_path)}\")\n",
        "\n",
        "    base_time = parse_xml_time(xml_path)\n",
        "\n",
        "    # Read audio file metadata\n",
        "    with sf.SoundFile(wav_path) as f:\n",
        "        sr = f.samplerate\n",
        "        total_samples = len(f)\n",
        "        total_duration = total_samples / sr\n",
        "\n",
        "    # Parameters\n",
        "    chunk_samples = int(chunk_duration * sr)\n",
        "    amp_min = db_to_amplitude_ratio(THRESHOLD_DB_MIN)\n",
        "    amp_max = db_to_amplitude_ratio(THRESHOLD_DB_MAX)\n",
        "\n",
        "    event_windows = []\n",
        "    buffer = None\n",
        "\n",
        "    with sf.SoundFile(wav_path) as f:\n",
        "        for chunk_start in range(0, total_samples, chunk_samples):\n",
        "            f.seek(chunk_start)\n",
        "            frames_to_read = min(chunk_samples, total_samples - chunk_start)\n",
        "            chunk = f.read(frames_to_read)\n",
        "\n",
        "            # Convert to mono if stereo\n",
        "            if chunk.ndim > 1:\n",
        "                chunk = np.mean(chunk, axis=1)\n",
        "\n",
        "            # Calculate RMS\n",
        "            rms = np.sqrt(np.mean(chunk ** 2))\n",
        "            if amp_min < rms < amp_max:\n",
        "                chunk_start_time = chunk_start / sr\n",
        "                chunk_end_time = (chunk_start + frames_to_read) / sr\n",
        "\n",
        "                if not event_windows or chunk_start_time > event_windows[-1][1]:\n",
        "                    event_windows.append([chunk_start_time, chunk_end_time])\n",
        "                else:\n",
        "                    event_windows[-1][1] = chunk_end_time\n",
        "\n",
        "    print(f\"  → Detected {len(event_windows)} sound events\")\n",
        "\n",
        "    # Export clips\n",
        "    base_name = os.path.splitext(os.path.basename(wav_path))[0]\n",
        "    audio = AudioSegment.from_file(wav_path)\n",
        "\n",
        "    for i, (start, end) in enumerate(event_windows):\n",
        "        duration = end - start\n",
        "        clip_count = int(np.ceil(duration / CLIP_LENGTH))\n",
        "\n",
        "        for j in range(clip_count):\n",
        "            clip_start = start + j * CLIP_LENGTH\n",
        "            actual_start_ms = int(clip_start * 1000)\n",
        "            clip = audio[actual_start_ms:actual_start_ms + CLIP_LENGTH * 1000]\n",
        "\n",
        "            clip_suffix = f\"{base_name}_event{i+1}_{j+1}of{clip_count}\"\n",
        "            wav_out_path = os.path.join(OUTPUT_DIR, f\"{clip_suffix}.wav\")\n",
        "            xml_out_path = os.path.join(OUTPUT_DIR, f\"{clip_suffix}.xml\")\n",
        "\n",
        "            clip.export(wav_out_path, format=\"wav\")\n",
        "            write_xml_for_clip(base_time, clip_start, xml_out_path)\n",
        "\n",
        "for filename in os.listdir(WAV_DIR):\n",
        "    if filename.endswith(\".wav\"):\n",
        "        wav_path = os.path.join(WAV_DIR, filename)\n",
        "        xml_path = os.path.join(WAV_DIR, filename.replace(\".wav\", \".log.xml\"))\n",
        "        if os.path.exists(xml_path):\n",
        "            process_file(wav_path, xml_path)\n",
        "\n"
      ],
      "metadata": {
        "colab": {
          "base_uri": "https://localhost:8080/"
        },
        "id": "j8ix-sjCnzkx",
        "outputId": "449b0a77-1351-4b2a-998f-575b18276efc"
      },
      "execution_count": 24,
      "outputs": [
        {
          "output_type": "stream",
          "name": "stdout",
          "text": [
            "Processing: 8567.240831110000.wav\n",
            "  → Detected 110 sound events\n"
          ]
        }
      ]
    }
  ]
}