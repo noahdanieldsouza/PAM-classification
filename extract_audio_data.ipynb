{
  "nbformat": 4,
  "nbformat_minor": 0,
  "metadata": {
    "colab": {
      "provenance": [],
      "authorship_tag": "ABX9TyOrVXhBJvhdc+s6o8wns3TW",
      "include_colab_link": true
    },
    "kernelspec": {
      "name": "python3",
      "display_name": "Python 3"
    },
    "language_info": {
      "name": "python"
    }
  },
  "cells": [
    {
      "cell_type": "markdown",
      "metadata": {
        "id": "view-in-github",
        "colab_type": "text"
      },
      "source": [
        "<a href=\"https://colab.research.google.com/github/noahdanieldsouza/PAM-classification/blob/main/extract_audio_data.ipynb\" target=\"_parent\"><img src=\"https://colab.research.google.com/assets/colab-badge.svg\" alt=\"Open In Colab\"/></a>"
      ]
    },
    {
      "cell_type": "code",
      "execution_count": 3,
      "metadata": {
        "colab": {
          "base_uri": "https://localhost:8080/"
        },
        "id": "Lk-u_qJ1fNvZ",
        "outputId": "30f6ccf5-00d0-4909-bd1b-2f4bf82d71ac"
      },
      "outputs": [
        {
          "output_type": "stream",
          "name": "stdout",
          "text": [
            "Requirement already satisfied: pydub in /usr/local/lib/python3.11/dist-packages (0.25.1)\n",
            "Requirement already satisfied: librosa in /usr/local/lib/python3.11/dist-packages (0.11.0)\n",
            "Requirement already satisfied: numpy in /usr/local/lib/python3.11/dist-packages (2.0.2)\n",
            "Requirement already satisfied: scipy in /usr/local/lib/python3.11/dist-packages (1.15.3)\n",
            "Requirement already satisfied: audioread>=2.1.9 in /usr/local/lib/python3.11/dist-packages (from librosa) (3.0.1)\n",
            "Requirement already satisfied: numba>=0.51.0 in /usr/local/lib/python3.11/dist-packages (from librosa) (0.60.0)\n",
            "Requirement already satisfied: scikit-learn>=1.1.0 in /usr/local/lib/python3.11/dist-packages (from librosa) (1.6.1)\n",
            "Requirement already satisfied: joblib>=1.0 in /usr/local/lib/python3.11/dist-packages (from librosa) (1.5.1)\n",
            "Requirement already satisfied: decorator>=4.3.0 in /usr/local/lib/python3.11/dist-packages (from librosa) (4.4.2)\n",
            "Requirement already satisfied: soundfile>=0.12.1 in /usr/local/lib/python3.11/dist-packages (from librosa) (0.13.1)\n",
            "Requirement already satisfied: pooch>=1.1 in /usr/local/lib/python3.11/dist-packages (from librosa) (1.8.2)\n",
            "Requirement already satisfied: soxr>=0.3.2 in /usr/local/lib/python3.11/dist-packages (from librosa) (0.5.0.post1)\n",
            "Requirement already satisfied: typing_extensions>=4.1.1 in /usr/local/lib/python3.11/dist-packages (from librosa) (4.14.0)\n",
            "Requirement already satisfied: lazy_loader>=0.1 in /usr/local/lib/python3.11/dist-packages (from librosa) (0.4)\n",
            "Requirement already satisfied: msgpack>=1.0 in /usr/local/lib/python3.11/dist-packages (from librosa) (1.1.1)\n",
            "Requirement already satisfied: packaging in /usr/local/lib/python3.11/dist-packages (from lazy_loader>=0.1->librosa) (24.2)\n",
            "Requirement already satisfied: llvmlite<0.44,>=0.43.0dev0 in /usr/local/lib/python3.11/dist-packages (from numba>=0.51.0->librosa) (0.43.0)\n",
            "Requirement already satisfied: platformdirs>=2.5.0 in /usr/local/lib/python3.11/dist-packages (from pooch>=1.1->librosa) (4.3.8)\n",
            "Requirement already satisfied: requests>=2.19.0 in /usr/local/lib/python3.11/dist-packages (from pooch>=1.1->librosa) (2.32.3)\n",
            "Requirement already satisfied: threadpoolctl>=3.1.0 in /usr/local/lib/python3.11/dist-packages (from scikit-learn>=1.1.0->librosa) (3.6.0)\n",
            "Requirement already satisfied: cffi>=1.0 in /usr/local/lib/python3.11/dist-packages (from soundfile>=0.12.1->librosa) (1.17.1)\n",
            "Requirement already satisfied: pycparser in /usr/local/lib/python3.11/dist-packages (from cffi>=1.0->soundfile>=0.12.1->librosa) (2.22)\n",
            "Requirement already satisfied: charset-normalizer<4,>=2 in /usr/local/lib/python3.11/dist-packages (from requests>=2.19.0->pooch>=1.1->librosa) (3.4.2)\n",
            "Requirement already satisfied: idna<4,>=2.5 in /usr/local/lib/python3.11/dist-packages (from requests>=2.19.0->pooch>=1.1->librosa) (3.10)\n",
            "Requirement already satisfied: urllib3<3,>=1.21.1 in /usr/local/lib/python3.11/dist-packages (from requests>=2.19.0->pooch>=1.1->librosa) (2.4.0)\n",
            "Requirement already satisfied: certifi>=2017.4.17 in /usr/local/lib/python3.11/dist-packages (from requests>=2.19.0->pooch>=1.1->librosa) (2025.6.15)\n"
          ]
        }
      ],
      "source": [
        "!pip install pydub librosa numpy scipy"
      ]
    },
    {
      "cell_type": "code",
      "source": [
        "import os\n",
        "import xml.etree.ElementTree as ET\n",
        "from pydub import AudioSegment\n",
        "import numpy as np\n",
        "import librosa\n",
        "import soundfile as sf\n",
        "from datetime import datetime, timedelta"
      ],
      "metadata": {
        "id": "aJQfFJdYjaXl"
      },
      "execution_count": 4,
      "outputs": []
    },
    {
      "cell_type": "code",
      "source": [
        "from google.colab import drive\n",
        "drive.mount('/content/drive', force_remount=True)\n",
        "\n",
        "# ==== Configuration ====\n",
        "WAV_PATH = '/content/drive/MyDrive/lake-sounds/clips/clip_012_0-06-48.wav'\n",
        "\n",
        "y, sr = librosa.load(WAV_PATH, sr=None)"
      ],
      "metadata": {
        "colab": {
          "base_uri": "https://localhost:8080/"
        },
        "id": "jye30gQrfciF",
        "outputId": "f169ba5d-45b4-480b-9265-b112a8870f79"
      },
      "execution_count": 42,
      "outputs": [
        {
          "output_type": "stream",
          "name": "stdout",
          "text": [
            "Mounted at /content/drive\n"
          ]
        }
      ]
    },
    {
      "cell_type": "code",
      "source": [
        "S = np.abs(librosa.stft(y))\n",
        "frequencies = librosa.fft_frequencies(sr = sr)\n",
        "dominant_freqs = frequencies[np.argmax(S, axis = 0)]\n",
        "mean_dominant_freq = np.mean(dominant_freqs)\n",
        "\n",
        "print(f\"Average dominant frequency: {mean_dominant_freq:.2f} Hz\")"
      ],
      "metadata": {
        "colab": {
          "base_uri": "https://localhost:8080/"
        },
        "id": "Ll0BoiBRfnF6",
        "outputId": "dae85e7e-271c-4a8f-a1f1-1954b03c7738"
      },
      "execution_count": 22,
      "outputs": [
        {
          "output_type": "stream",
          "name": "stdout",
          "text": [
            "Average dominant frequency: 30.73 Hz\n"
          ]
        }
      ]
    },
    {
      "cell_type": "code",
      "source": [
        "#centroid\n",
        "\n",
        "centroid = librosa.feature.spectral_centroid(y=y, sr=sr).mean()\n",
        "\n",
        "print(centroid)"
      ],
      "metadata": {
        "colab": {
          "base_uri": "https://localhost:8080/"
        },
        "id": "SyhFGCnRxb_6",
        "outputId": "2c764d27-fdc1-4a1b-e0a0-d2927f9f7a48"
      },
      "execution_count": 43,
      "outputs": [
        {
          "output_type": "stream",
          "name": "stdout",
          "text": [
            "9829.170119310915\n"
          ]
        }
      ]
    },
    {
      "cell_type": "code",
      "source": [
        "bandwidth = librosa.feature.spectral_bandwidth(y=y, sr=sr)[0]\n",
        "mean_bandwidth = np.mean(bandwidth)\n",
        "print(f\"Average spectral bandwidth: {mean_bandwidth:.2f} Hz\")"
      ],
      "metadata": {
        "colab": {
          "base_uri": "https://localhost:8080/"
        },
        "id": "5KW-s0Mgjq0l",
        "outputId": "ba5f0d1b-0ebb-4ee3-ddac-762bd71a337d"
      },
      "execution_count": 23,
      "outputs": [
        {
          "output_type": "stream",
          "name": "stdout",
          "text": [
            "Average spectral bandwidth: 13693.60 Hz\n"
          ]
        }
      ]
    },
    {
      "cell_type": "code",
      "source": [
        "rms = librosa.feature.rms(y=y)[0]  # shape: (frames,)\n",
        "\n",
        "# Convert RMS to dB\n",
        "rms_db = librosa.amplitude_to_db(rms, ref=1.0)\n",
        "\n",
        "# Print max and min dB\n",
        "print(f\"Min dB: {np.min(rms_db):.2f} dB\")\n",
        "print(f\"Max dB: {np.max(rms_db):.2f} dB\")"
      ],
      "metadata": {
        "colab": {
          "base_uri": "https://localhost:8080/"
        },
        "id": "hMrRbiLmrG1A",
        "outputId": "e4569d98-f767-4b13-ca6b-a95674c72b7a"
      },
      "execution_count": 35,
      "outputs": [
        {
          "output_type": "stream",
          "name": "stdout",
          "text": [
            "Min dB: -79.19 dB\n",
            "Max dB: -60.66 dB\n"
          ]
        }
      ]
    }
  ]
}